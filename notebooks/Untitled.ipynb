{
 "cells": [
  {
   "cell_type": "code",
   "execution_count": 178,
   "metadata": {},
   "outputs": [
    {
     "name": "stdout",
     "output_type": "stream",
     "text": [
      "The autoreload extension is already loaded. To reload it, use:\n",
      "  %reload_ext autoreload\n"
     ]
    }
   ],
   "source": [
    "%load_ext autoreload\n",
    "%autoreload 2\n",
    "import sys\n",
    "sys.path.append('/home/kirill/Projects/NIR')\n",
    "sys.path.append('/home/kirilman/Projects/nir/nir/')\n",
    "\n",
    "import myutils\n",
    "import numpy as np\n",
    "import matplotlib.pylab as plt\n",
    "from pomegranate import *\n",
    "import pandas as pd\n",
    "from sklearn.model_selection import train_test_split\n",
    "from sklearn.preprocessing import normalize, minmax_scale, StandardScaler\n",
    "pd.set_option('display.max_columns', 40)"
   ]
  },
  {
   "cell_type": "code",
   "execution_count": 179,
   "metadata": {},
   "outputs": [],
   "source": [
    "def read_data(start_index, stop_index):\n",
    "    with open('kdd_test.txt','r') as file:\n",
    "        data = []\n",
    "        target = []\n",
    "        for i,line in enumerate(file):\n",
    "            if i == 0:\n",
    "                continue\n",
    "            elems = line.replace('\\n','').split(',')\n",
    "            data += [[float(x) for x in elems[start_index:stop_index]]]\n",
    "            target += [elems[41]]\n",
    "    return data, target"
   ]
  },
  {
   "cell_type": "code",
   "execution_count": 219,
   "metadata": {},
   "outputs": [],
   "source": [
    "data, target = read_data(4,8)\n",
    "# test_data = data[80000:100000]\n",
    "# test_target = target[80000:100000]\n",
    "# data = data[:80000]\n",
    "# target = target[:80000]\n",
    "\n",
    "\n",
    "#test_data = data[6000:7000]\n",
    "# test_target = target[6000:7000]\n",
    "data = data[:125000]\n",
    "# target = target[:30000]"
   ]
  },
  {
   "cell_type": "code",
   "execution_count": 220,
   "metadata": {},
   "outputs": [
    {
     "data": {
      "text/html": [
       "<div>\n",
       "<style scoped>\n",
       "    .dataframe tbody tr th:only-of-type {\n",
       "        vertical-align: middle;\n",
       "    }\n",
       "\n",
       "    .dataframe tbody tr th {\n",
       "        vertical-align: top;\n",
       "    }\n",
       "\n",
       "    .dataframe thead th {\n",
       "        text-align: right;\n",
       "    }\n",
       "</style>\n",
       "<table border=\"1\" class=\"dataframe\">\n",
       "  <thead>\n",
       "    <tr style=\"text-align: right;\">\n",
       "      <th></th>\n",
       "      <th>0</th>\n",
       "      <th>1</th>\n",
       "      <th>2</th>\n",
       "      <th>3</th>\n",
       "      <th>4</th>\n",
       "    </tr>\n",
       "  </thead>\n",
       "  <tbody>\n",
       "    <tr>\n",
       "      <th>124995</th>\n",
       "      <td>0.0</td>\n",
       "      <td>0.0</td>\n",
       "      <td>0.0</td>\n",
       "      <td>0.0</td>\n",
       "      <td>neptune</td>\n",
       "    </tr>\n",
       "    <tr>\n",
       "      <th>124996</th>\n",
       "      <td>0.0</td>\n",
       "      <td>0.0</td>\n",
       "      <td>0.0</td>\n",
       "      <td>0.0</td>\n",
       "      <td>neptune</td>\n",
       "    </tr>\n",
       "    <tr>\n",
       "      <th>124997</th>\n",
       "      <td>0.0</td>\n",
       "      <td>0.0</td>\n",
       "      <td>0.0</td>\n",
       "      <td>0.0</td>\n",
       "      <td>neptune</td>\n",
       "    </tr>\n",
       "    <tr>\n",
       "      <th>124998</th>\n",
       "      <td>0.0</td>\n",
       "      <td>0.0</td>\n",
       "      <td>0.0</td>\n",
       "      <td>0.0</td>\n",
       "      <td>neptune</td>\n",
       "    </tr>\n",
       "    <tr>\n",
       "      <th>124999</th>\n",
       "      <td>0.0</td>\n",
       "      <td>0.0</td>\n",
       "      <td>0.0</td>\n",
       "      <td>0.0</td>\n",
       "      <td>neptune</td>\n",
       "    </tr>\n",
       "  </tbody>\n",
       "</table>\n",
       "</div>"
      ],
      "text/plain": [
       "          0    1    2    3        4\n",
       "124995  0.0  0.0  0.0  0.0  neptune\n",
       "124996  0.0  0.0  0.0  0.0  neptune\n",
       "124997  0.0  0.0  0.0  0.0  neptune\n",
       "124998  0.0  0.0  0.0  0.0  neptune\n",
       "124999  0.0  0.0  0.0  0.0  neptune"
      ]
     },
     "execution_count": 220,
     "metadata": {},
     "output_type": "execute_result"
    }
   ],
   "source": [
    "frame = pd.DataFrame(data)\n",
    "frame[frame.shape[1]] = pd.DataFrame(target)\n",
    "frame.tail()"
   ]
  },
  {
   "cell_type": "code",
   "execution_count": 221,
   "metadata": {},
   "outputs": [
    {
     "name": "stdout",
     "output_type": "stream",
     "text": [
      "62104\n"
     ]
    }
   ],
   "source": [
    "a = frame[frame.shape[1]-1].value_counts()>2000\n",
    "uses_classes = []\n",
    "for i,x in enumerate(a):\n",
    "    if x:\n",
    "        uses_classes+=[a.index[i]]\n",
    "uses_classes\n",
    "\n",
    "arr_mask = []\n",
    "for cl in uses_classes:\n",
    "    arr_mask+=[frame.loc[:,frame.shape[1]-1] == cl]\n",
    "    \n",
    "for i,cur_mask in enumerate(arr_mask):\n",
    "    if i == 0:\n",
    "        mask = np.zeros((frame.shape[0]),dtype = bool)\n",
    "        #mask = mask | cur_mask\n",
    "    else:\n",
    "        mask = mask | cur_mask\n",
    "print(np.sum(mask))\n",
    "\n",
    "frame = frame[mask]"
   ]
  },
  {
   "cell_type": "code",
   "execution_count": 222,
   "metadata": {},
   "outputs": [],
   "source": [
    "# test_data = data[6000:7000]\n",
    "# test_target = target[6000:7000]\n",
    "p = int(len(frame)*0.8)\n",
    "test_data = frame.drop(frame.shape[1]-1,axis=1).values[:p]\n",
    "test_target = frame[frame.shape[1]-1].values[:p]\n",
    "\n",
    "data = frame.drop(frame.shape[1]-1,axis=1).values[:p]\n",
    "target = frame[frame.shape[1]-1].values[:p]\n",
    "\n"
   ]
  },
  {
   "cell_type": "code",
   "execution_count": 223,
   "metadata": {},
   "outputs": [
    {
     "data": {
      "text/plain": [
       "<matplotlib.axes._subplots.AxesSubplot at 0x7fd9d78a1908>"
      ]
     },
     "execution_count": 223,
     "metadata": {},
     "output_type": "execute_result"
    },
    {
     "data": {
      "image/png": "[encoded data removed]",
      "text/plain": [
       "<Figure size 432x288 with 1 Axes>"
      ]
     },
     "metadata": {},
     "output_type": "display_data"
    }
   ],
   "source": [
    "pd.DataFrame(target)[0].value_counts().plot.bar()\n",
    "#target.value_counts().plot.bar()"
   ]
  },
  {
   "cell_type": "code",
   "execution_count": 224,
   "metadata": {},
   "outputs": [
    {
     "name": "stdout",
     "output_type": "stream",
     "text": [
      "Количество состояний 3\n",
      "{'neptune': 0, 'smurf': 1, 'back': 2}\n",
      "49683\n",
      "['s0', 's0', 's1', 's1', 's1', 's1', 's1', 's1', 's1', 's1']\n",
      "49683 49683\n"
     ]
    }
   ],
   "source": [
    "\n",
    "#нормализация\n",
    "# data = pd.DataFrame(minmax_scale(data))\n",
    "# test_data = pd.DataFrame(minmax_scale(test_data))\n",
    "data = StandardScaler().fit_transform(data)\n",
    "test_data = StandardScaler().fit_transform(test_data)\n",
    "\n",
    "data = pd.DataFrame(data)\n",
    "test_data = pd.DataFrame(test_data)\n",
    "\n",
    "states = {}\n",
    "target = pd.DataFrame(target)\n",
    "N_comp = len(pd.unique(target[0]))\n",
    "print('Количество состояний {}'.format(N_comp))\n",
    "for i,elem in enumerate(pd.unique(target[0].values)):\n",
    "    states[elem] = i\n",
    "print(states)\n",
    "\n",
    "y_train = []\n",
    "for x in target[0]:\n",
    "    y_train+=[states[x]]\n",
    "print(len(y_train))\n",
    "y_train = list(map(str,y_train))\n",
    "y_train = list(map(myutils.rename_state,y_train))\n",
    "\n",
    "print(y_train[:10])\n",
    "x_train = data.values.tolist()\n",
    "print(len(x_train), len(y_train))"
   ]
  },
  {
   "cell_type": "code",
   "execution_count": 225,
   "metadata": {},
   "outputs": [
    {
     "data": {
      "text/plain": [
       "[-0.25088857386105584, -0.20447314396615218, 0.0, 0.0]"
      ]
     },
     "execution_count": 225,
     "metadata": {},
     "output_type": "execute_result"
    }
   ],
   "source": [
    "x_train[0]"
   ]
  },
  {
   "cell_type": "code",
   "execution_count": 226,
   "metadata": {},
   "outputs": [
    {
     "data": {
      "text/html": [
       "<div>\n",
       "<style scoped>\n",
       "    .dataframe tbody tr th:only-of-type {\n",
       "        vertical-align: middle;\n",
       "    }\n",
       "\n",
       "    .dataframe tbody tr th {\n",
       "        vertical-align: top;\n",
       "    }\n",
       "\n",
       "    .dataframe thead th {\n",
       "        text-align: right;\n",
       "    }\n",
       "</style>\n",
       "<table border=\"1\" class=\"dataframe\">\n",
       "  <thead>\n",
       "    <tr style=\"text-align: right;\">\n",
       "      <th></th>\n",
       "      <th>0</th>\n",
       "      <th>1</th>\n",
       "      <th>2</th>\n",
       "      <th>3</th>\n",
       "    </tr>\n",
       "  </thead>\n",
       "  <tbody>\n",
       "    <tr>\n",
       "      <th>count</th>\n",
       "      <td>4.968300e+04</td>\n",
       "      <td>4.968300e+04</td>\n",
       "      <td>49683.0</td>\n",
       "      <td>49683.0</td>\n",
       "    </tr>\n",
       "    <tr>\n",
       "      <th>mean</th>\n",
       "      <td>1.301486e-13</td>\n",
       "      <td>-3.410006e-14</td>\n",
       "      <td>0.0</td>\n",
       "      <td>0.0</td>\n",
       "    </tr>\n",
       "    <tr>\n",
       "      <th>std</th>\n",
       "      <td>1.000010e+00</td>\n",
       "      <td>1.000010e+00</td>\n",
       "      <td>0.0</td>\n",
       "      <td>0.0</td>\n",
       "    </tr>\n",
       "    <tr>\n",
       "      <th>min</th>\n",
       "      <td>-2.508886e-01</td>\n",
       "      <td>-2.044731e-01</td>\n",
       "      <td>0.0</td>\n",
       "      <td>0.0</td>\n",
       "    </tr>\n",
       "    <tr>\n",
       "      <th>25%</th>\n",
       "      <td>-2.508886e-01</td>\n",
       "      <td>-2.044731e-01</td>\n",
       "      <td>0.0</td>\n",
       "      <td>0.0</td>\n",
       "    </tr>\n",
       "    <tr>\n",
       "      <th>50%</th>\n",
       "      <td>-2.508886e-01</td>\n",
       "      <td>-2.044731e-01</td>\n",
       "      <td>0.0</td>\n",
       "      <td>0.0</td>\n",
       "    </tr>\n",
       "    <tr>\n",
       "      <th>75%</th>\n",
       "      <td>-1.535420e-01</td>\n",
       "      <td>-2.044731e-01</td>\n",
       "      <td>0.0</td>\n",
       "      <td>0.0</td>\n",
       "    </tr>\n",
       "    <tr>\n",
       "      <th>max</th>\n",
       "      <td>4.893764e+00</td>\n",
       "      <td>4.910149e+00</td>\n",
       "      <td>0.0</td>\n",
       "      <td>0.0</td>\n",
       "    </tr>\n",
       "  </tbody>\n",
       "</table>\n",
       "</div>"
      ],
      "text/plain": [
       "                  0             1        2        3\n",
       "count  4.968300e+04  4.968300e+04  49683.0  49683.0\n",
       "mean   1.301486e-13 -3.410006e-14      0.0      0.0\n",
       "std    1.000010e+00  1.000010e+00      0.0      0.0\n",
       "min   -2.508886e-01 -2.044731e-01      0.0      0.0\n",
       "25%   -2.508886e-01 -2.044731e-01      0.0      0.0\n",
       "50%   -2.508886e-01 -2.044731e-01      0.0      0.0\n",
       "75%   -1.535420e-01 -2.044731e-01      0.0      0.0\n",
       "max    4.893764e+00  4.910149e+00      0.0      0.0"
      ]
     },
     "execution_count": 226,
     "metadata": {},
     "output_type": "execute_result"
    }
   ],
   "source": [
    "frame = pd.DataFrame(x_train)\n",
    "frame.describe()"
   ]
  },
  {
   "cell_type": "code",
   "execution_count": 227,
   "metadata": {},
   "outputs": [
    {
     "data": {
      "text/plain": [
       "{\n",
       "    \"class\" : \"HiddenMarkovModel\",\n",
       "    \"name\" : \"None\",\n",
       "    \"start\" : {\n",
       "        \"class\" : \"State\",\n",
       "        \"distribution\" : null,\n",
       "        \"name\" : \"None-start\",\n",
       "        \"weight\" : 1.0\n",
       "    },\n",
       "    \"end\" : {\n",
       "        \"class\" : \"State\",\n",
       "        \"distribution\" : null,\n",
       "        \"name\" : \"None-end\",\n",
       "        \"weight\" : 1.0\n",
       "    },\n",
       "    \"states\" : [\n",
       "        {\n",
       "            \"class\" : \"State\",\n",
       "            \"distribution\" : {\n",
       "                \"class\" : \"Distribution\",\n",
       "                \"name\" : \"MultivariateGaussianDistribution\",\n",
       "                \"parameters\" : [\n",
       "                    [\n",
       "                        -0.2506782798500385,\n",
       "                        -0.20426798461590862,\n",
       "                        0.0,\n",
       "                        0.0\n",
       "                    ],\n",
       "                    [\n",
       "                        [\n",
       "                            0.0010621442647613566,\n",
       "                            0.0010554303700947396,\n",
       "                            0.0,\n",
       "                            0.0\n",
       "                        ],\n",
       "                        [\n",
       "                            0.0010554303700947396,\n",
       "                            0.0010491542881873482,\n",
       "                            0.0,\n",
       "                            0.0\n",
       "                        ],\n",
       "                        [\n",
       "                            0.0,\n",
       "                            0.0,\n",
       "                            1e-08,\n",
       "                            0.0\n",
       "                        ],\n",
       "                        [\n",
       "                            0.0,\n",
       "                            0.0,\n",
       "                            0.0,\n",
       "                            1e-08\n",
       "                        ]\n",
       "                    ]\n",
       "                ],\n",
       "                \"frozen\" : false\n",
       "            },\n",
       "            \"name\" : \"s0\",\n",
       "            \"weight\" : 1.0\n",
       "        },\n",
       "        {\n",
       "            \"class\" : \"State\",\n",
       "            \"distribution\" : {\n",
       "                \"class\" : \"Distribution\",\n",
       "                \"name\" : \"MultivariateGaussianDistribution\",\n",
       "                \"parameters\" : [\n",
       "                    [\n",
       "                        -0.1533287450127996,\n",
       "                        -0.2042483820831428,\n",
       "                        0.0,\n",
       "                        0.0\n",
       "                    ],\n",
       "                    [\n",
       "                        [\n",
       "                            0.0011204430240462835,\n",
       "                            0.0011343939972624764,\n",
       "                            0.0,\n",
       "                            0.0\n",
       "                        ],\n",
       "                        [\n",
       "                            0.0011343939972624764,\n",
       "                            0.0011493933527164206,\n",
       "                            0.0,\n",
       "                            0.0\n",
       "                        ],\n",
       "                        [\n",
       "                            0.0,\n",
       "                            0.0,\n",
       "                            1e-08,\n",
       "                            0.0\n",
       "                        ],\n",
       "                        [\n",
       "                            0.0,\n",
       "                            0.0,\n",
       "                            0.0,\n",
       "                            1e-08\n",
       "                        ]\n",
       "                    ]\n",
       "                ],\n",
       "                \"frozen\" : false\n",
       "            },\n",
       "            \"name\" : \"s1\",\n",
       "            \"weight\" : 1.0\n",
       "        },\n",
       "        {\n",
       "            \"class\" : \"State\",\n",
       "            \"distribution\" : {\n",
       "                \"class\" : \"Distribution\",\n",
       "                \"name\" : \"MultivariateGaussianDistribution\",\n",
       "                \"parameters\" : [\n",
       "                    [\n",
       "                        4.863934718119752,\n",
       "                        4.864763218383212,\n",
       "                        0.0,\n",
       "                        0.0\n",
       "                    ],\n",
       "                    [\n",
       "                        [\n",
       "                            0.08322249264863395,\n",
       "                            0.04876151799279879,\n",
       "                            0.0,\n",
       "                            0.0\n",
       "                        ],\n",
       "                        [\n",
       "                            0.04876151799279879,\n",
       "                            0.13096641640109577,\n",
       "                            0.0,\n",
       "                            0.0\n",
       "                        ],\n",
       "                        [\n",
       "                            0.0,\n",
       "                            0.0,\n",
       "                            1e-08,\n",
       "                            0.0\n",
       "                        ],\n",
       "                        [\n",
       "                            0.0,\n",
       "                            0.0,\n",
       "                            0.0,\n",
       "                            1e-08\n",
       "                        ]\n",
       "                    ]\n",
       "                ],\n",
       "                \"frozen\" : false\n",
       "            },\n",
       "            \"name\" : \"s2\",\n",
       "            \"weight\" : 1.0\n",
       "        },\n",
       "        {\n",
       "            \"class\" : \"State\",\n",
       "            \"distribution\" : null,\n",
       "            \"name\" : \"None-start\",\n",
       "            \"weight\" : 1.0\n",
       "        },\n",
       "        {\n",
       "            \"class\" : \"State\",\n",
       "            \"distribution\" : null,\n",
       "            \"name\" : \"None-end\",\n",
       "            \"weight\" : 1.0\n",
       "        }\n",
       "    ],\n",
       "    \"end_index\" : 4,\n",
       "    \"start_index\" : 3,\n",
       "    \"silent_index\" : 3,\n",
       "    \"edges\" : [\n",
       "        [\n",
       "            3,\n",
       "            0,\n",
       "            0.3333333333333333,\n",
       "            0.3333333333333333,\n",
       "            null\n",
       "        ],\n",
       "        [\n",
       "            3,\n",
       "            1,\n",
       "            0.3333333333333333,\n",
       "            0.3333333333333333,\n",
       "            null\n",
       "        ],\n",
       "        [\n",
       "            3,\n",
       "            2,\n",
       "            0.3333333333333333,\n",
       "            0.3333333333333333,\n",
       "            null\n",
       "        ],\n",
       "        [\n",
       "            0,\n",
       "            0,\n",
       "            0.9999197657158904,\n",
       "            0.3333333333333333,\n",
       "            null\n",
       "        ],\n",
       "        [\n",
       "            0,\n",
       "            1,\n",
       "            8.023428410960003e-05,\n",
       "            0.3333333333333333,\n",
       "            null\n",
       "        ],\n",
       "        [\n",
       "            0,\n",
       "            2,\n",
       "            0.0,\n",
       "            0.3333333333333333,\n",
       "            null\n",
       "        ],\n",
       "        [\n",
       "            1,\n",
       "            0,\n",
       "            4.3950248318903e-05,\n",
       "            0.3333333333333333,\n",
       "            null\n",
       "        ],\n",
       "        [\n",
       "            1,\n",
       "            1,\n",
       "            0.9998681492550433,\n",
       "            0.3333333333333333,\n",
       "            null\n",
       "        ],\n",
       "        [\n",
       "            1,\n",
       "            2,\n",
       "            8.790049663780602e-05,\n",
       "            0.3333333333333333,\n",
       "            null\n",
       "        ],\n",
       "        [\n",
       "            2,\n",
       "            0,\n",
       "            0.0004995004995004997,\n",
       "            0.3333333333333333,\n",
       "            null\n",
       "        ],\n",
       "        [\n",
       "            2,\n",
       "            1,\n",
       "            0.0004995004995004997,\n",
       "            0.3333333333333333,\n",
       "            null\n",
       "        ],\n",
       "        [\n",
       "            2,\n",
       "            2,\n",
       "            0.999000999000999,\n",
       "            0.3333333333333333,\n",
       "            null\n",
       "        ]\n",
       "    ],\n",
       "    \"distribution ties\" : []\n",
       "}"
      ]
     },
     "execution_count": 227,
     "metadata": {},
     "output_type": "execute_result"
    }
   ],
   "source": [
    "model = HiddenMarkovModel.from_samples(MultivariateGaussianDistribution, n_components = N_comp,X = [x_train],\n",
    "                                       labels=[y_train],algorithm='labeled' )\n",
    "# model = HiddenMarkovModel.from_samples(MultivariateGaussianDistribution, n_components = N_comp,X = [x_train],\n",
    "#                                       lr_decay = 0.9)\n",
    "model"
   ]
  },
  {
   "cell_type": "code",
   "execution_count": 228,
   "metadata": {},
   "outputs": [],
   "source": [
    "#Тестовая выборка\n",
    "y_test = []\n",
    "for x in test_target:\n",
    "    #if x == 'loadmodule' or x=='perl':\n",
    "        #continue\n",
    "    y_test += [states[x]]\n",
    "x_test = test_data"
   ]
  },
  {
   "cell_type": "code",
   "execution_count": 229,
   "metadata": {},
   "outputs": [
    {
     "name": "stdout",
     "output_type": "stream",
     "text": [
      "[2, 2, 2, 2, 2, 2, 2, 2, 2, 2]\n",
      "[0, 0, 1, 1, 1, 1, 1, 1, 1, 1]\n",
      "0.04029547330072661\n"
     ]
    }
   ],
   "source": [
    "y_pr = model.predict(x_test)\n",
    "print(y_pr[:10])\n",
    "print(y_test[:10])\n",
    "acc = np.sum(np.array(y_pr) == np.array(y_test))/len(y_pr)\n",
    "print(acc)"
   ]
  },
  {
   "cell_type": "code",
   "execution_count": 230,
   "metadata": {},
   "outputs": [
    {
     "data": {
      "text/plain": [
       "[<matplotlib.lines.Line2D at 0x7fd9e7a6de48>]"
      ]
     },
     "execution_count": 230,
     "metadata": {},
     "output_type": "execute_result"
    },
    {
     "data": {
      "image/png": "[encoded data removed]",
      "text/plain": [
       "<Figure size 432x288 with 1 Axes>"
      ]
     },
     "metadata": {},
     "output_type": "display_data"
    }
   ],
   "source": [
    "plt.plot(y_pr,'r--')\n",
    "plt.plot(x_test[0],'g--')\n",
    "plt.plot(y_test,'b')"
   ]
  },
  {
   "cell_type": "code",
   "execution_count": 235,
   "metadata": {},
   "outputs": [
    {
     "data": {
      "text/plain": [
       "[<matplotlib.lines.Line2D at 0x7fd9d667d160>]"
      ]
     },
     "execution_count": 235,
     "metadata": {},
     "output_type": "execute_result"
    },
    {
     "data": {
      "image/png": "[encoded data removed]",
      "text/plain": [
       "<Figure size 432x288 with 1 Axes>"
      ]
     },
     "metadata": {},
     "output_type": "display_data"
    }
   ],
   "source": [
    "plt.plot(x_test[1],'g--')\n",
    "plt.plot(x_test[2])\n",
    "plt.plot(x_test[3])\n",
    "plt.plot(x_test[0])"
   ]
  },
  {
   "cell_type": "code",
   "execution_count": 148,
   "metadata": {},
   "outputs": [
    {
     "data": {
      "text/plain": [
       "array([[ 0.        , -1.06904497],\n",
       "       [ 1.22474487, -0.26726124],\n",
       "       [-1.22474487,  1.33630621]])"
      ]
     },
     "execution_count": 148,
     "metadata": {},
     "output_type": "execute_result"
    }
   ],
   "source": [
    "a = np.array([[1,2],[2,3],[0,5.]])\n",
    "StandardScaler().fit_transform(a)"
   ]
  },
  {
   "cell_type": "code",
   "execution_count": 190,
   "metadata": {},
   "outputs": [
    {
     "data": {
      "text/plain": [
       "0.7071067811865475"
      ]
     },
     "execution_count": 190,
     "metadata": {},
     "output_type": "execute_result"
    }
   ],
   "source": [
    "1/np.sqrt(2)"
   ]
  },
  {
   "cell_type": "code",
   "execution_count": 191,
   "metadata": {},
   "outputs": [
    {
     "data": {
      "text/plain": [
       "0.816496580927726"
      ]
     },
     "execution_count": 191,
     "metadata": {},
     "output_type": "execute_result"
    }
   ],
   "source": [
    "np.std([1,2,0])"
   ]
  },
  {
   "cell_type": "code",
   "execution_count": 195,
   "metadata": {},
   "outputs": [
    {
     "data": {
      "text/plain": [
       "0.816496580927726"
      ]
     },
     "execution_count": 195,
     "metadata": {},
     "output_type": "execute_result"
    }
   ],
   "source": [
    "np.sqrt(2/3)"
   ]
  },
  {
   "cell_type": "code",
   "execution_count": null,
   "metadata": {},
   "outputs": [],
   "source": []
  }
 ],
 "metadata": {
  "kernelspec": {
   "display_name": "Python 3",
   "language": "python",
   "name": "python3"
  },
  "language_info": {
   "codemirror_mode": {
    "name": "ipython",
    "version": 3
   },
   "file_extension": ".py",
   "mimetype": "text/x-python",
   "name": "python",
   "nbconvert_exporter": "python",
   "pygments_lexer": "ipython3",
   "version": "3.6.5"
  }
 },
 "nbformat": 4,
 "nbformat_minor": 2
}

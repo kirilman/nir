{
 "cells": [
  {
   "cell_type": "code",
   "execution_count": 3,
   "metadata": {},
   "outputs": [
    {
     "name": "stdout",
     "output_type": "stream",
     "text": [
      "The autoreload extension is already loaded. To reload it, use:\n",
      "  %reload_ext autoreload\n"
     ]
    }
   ],
   "source": [
    "%load_ext autoreload\n",
    "%autoreload 2\n",
    "import sys\n",
    "sys.path.append('/home/kirill/Projects/NIR')\n",
    "import sequence_generator as generator\n",
    "import numpy as np\n",
    "import matplotlib.pylab as plt\n",
    "from pomegranate import *\n",
    "from myutils import frequency_occurrence"
   ]
  },
  {
   "cell_type": "code",
   "execution_count": 4,
   "metadata": {},
   "outputs": [],
   "source": [
    "def gaussian_generator(mean, deviation, sample_size):\n",
    "    data = np.array([np.random.normal(mean,deviation) for x in range(sample_size)])\n",
    "    return data\n",
    "def gaussian(x, mu, sigma):\n",
    "    return math.exp(-0.5*((x-mu)/sigma)**2) / sigma / math.sqrt(2*math.pi)\n",
    "def create_signal(N):\n",
    "    len_random_seq = 1\n",
    "    data = np.array([])\n",
    "    current_stage = 0\n",
    "    seq_stages = []\n",
    "    for _ in range(N):\n",
    "        if current_stage == 0:\n",
    "            a = np.random.uniform()\n",
    "            if a >= 0 and a < 0.9:\n",
    "                temp = gaussian_generator(0,1,len_random_seq)\n",
    "                current_stage = 0\n",
    "            elif a >= 0.90 and a < 0.93 :\n",
    "                temp = gaussian_generator(5,1,len_random_seq)\n",
    "                current_stage = 1\n",
    "            elif a >= 0.93 and a <= 1:\n",
    "                temp = gaussian_generator(10,1,len_random_seq) \n",
    "                current_stage = 2\n",
    "        elif current_stage == 1:\n",
    "            a = np.random.uniform()\n",
    "            if a >= 0 and a <= 0.1:\n",
    "                temp = gaussian_generator(0,1,len_random_seq)\n",
    "                current_stage = 0\n",
    "            elif a > 0.1 and a <= 0.85:\n",
    "                temp = gaussian_generator(5,1,len_random_seq)\n",
    "                current_stage = 1\n",
    "            elif a > 0.85 and a <= 1:\n",
    "                temp = gaussian_generator(10,1,len_random_seq) \n",
    "                current_stage = 2\n",
    "        else:\n",
    "            a = np.random.uniform()\n",
    "            if a >= 0 and a <= 0.05:\n",
    "                temp = gaussian_generator(0,1,len_random_seq)\n",
    "                current_stage = 0\n",
    "            elif a > 0.05 and a <= 0.1:\n",
    "                temp = gaussian_generator(5,1,len_random_seq)\n",
    "                current_stage = 1\n",
    "            elif a > 0.1 and a <= 1:\n",
    "                temp = gaussian_generator(10,1,len_random_seq) \n",
    "                current_stage = 2\n",
    "            #print(2)\n",
    "        if len(data) == 0:\n",
    "            data = temp\n",
    "        else:\n",
    "            data = np.append(data,temp)\n",
    "        seq_stages += [current_stage]\n",
    "    #print(data.shape)\n",
    "    return data\n",
    "def create_simple(N):\n",
    "    data = np.array([])\n",
    "    seq_stages = np.zeros((0,),dtype=np.int32)\n",
    "    for _ in range(10):\n",
    "        temp = np.array([])\n",
    "        data_stage_one = gaussian_generator(0, 1, N)\n",
    "        data_stage_two = gaussian_generator(5,1,N)\n",
    "        data_stage_three = gaussian_generator(15,3,N)\n",
    "        temp = np.append(temp,(data_stage_one,data_stage_two,data_stage_three))\n",
    "        g = np.concatenate((np.ones((N,),dtype=np.int32)-1,np.ones((N,),dtype=np.int32),np.ones((N,),dtype=np.int32)+1,))\n",
    "        seq_stages = np.hstack((seq_stages,g))\n",
    "        if len(data) == 0:\n",
    "            data = temp\n",
    "        else:\n",
    "            data = np.append(data,temp)\n",
    "    return data, seq_stages \n",
    "\n",
    "def create_simple_two(N):\n",
    "    data = np.array([])\n",
    "    seq_stages = np.zeros((0,), dtype=np.int32)\n",
    "    for _ in range(10):\n",
    "        temp = np.array([])\n",
    "        data_stage_one = gaussian_generator(0, 0.5, N)\n",
    "        data_stage_two = gaussian_generator(10,3,N)\n",
    "        temp = np.append(temp,(data_stage_one,data_stage_two))\n",
    "        g = np.concatenate((np.ones((N,),dtype=np.int32)-1,np.ones((N,),dtype=np.int32)))\n",
    "        seq_stages = np.hstack((seq_stages,g))\n",
    "        if len(data) == 0:\n",
    "            data = temp\n",
    "        else:\n",
    "            data = np.append(data,temp)\n",
    "    #print(seq_stages)\n",
    "    #print(type(seq_stages[0]))\n",
    "    return data, seq_stages \n",
    "def rename_state(x):\n",
    "    a = 's'+x\n",
    "    return a"
   ]
  },
  {
   "cell_type": "code",
   "execution_count": 5,
   "metadata": {},
   "outputs": [
    {
     "name": "stdout",
     "output_type": "stream",
     "text": [
      "Исходные размерности  (3000,) (3000,)\n",
      "Тип x_train элемента: <class 'numpy.float64'>\n",
      "x_train =  [-0.05368198  0.50351964 -1.70282657]\n",
      "Тип y элемента <class 'numpy.int32'>\n",
      "y_train =  [0 0 0]\n",
      "1.0282573343962191\n",
      "1.0224430343548743\n"
     ]
    },
    {
     "data": {
      "image/png": "[encoded data removed]",
      "text/plain": [
       "<Figure size 720x480 with 2 Axes>"
      ]
     },
     "metadata": {
      "needs_background": "light"
     },
     "output_type": "display_data"
    }
   ],
   "source": [
    "x_train, y_train = create_simple(100)\n",
    "print('Исходные размерности ',x_train.shape, y_train.shape)\n",
    "print('Тип x_train элемента:',type(x_train[0]))\n",
    "# x_train = x_train.reshape(-1,1)\n",
    "# y_train = y_train.reshape(-1,1)\n",
    "\n",
    "#x_train = x_train.tolist()\n",
    "\n",
    "print('x_train = ',x_train[:3])\n",
    "print('Тип y элемента',type(y_train[0]))\n",
    "print('y_train = ',y_train[:3])\n",
    "fig, ax  = plt.subplots(2,1,dpi = 120)\n",
    "ax[0].set_title('Исходный сигнал')\n",
    "ax[0].plot(x_train)\n",
    "ax[0].plot(y_train*((x_train.max() - y_train.min())/2))\n",
    "ax[1].hist(x_train,bins = int(np.log(len(x_train))+20));\n",
    "print(x_train[y_train == 0].std())\n",
    "print(x_train[y_train == 1].std())"
   ]
  },
  {
   "cell_type": "code",
   "execution_count": 6,
   "metadata": {},
   "outputs": [
    {
     "name": "stdout",
     "output_type": "stream",
     "text": [
      "['s0', 's0', 's0', 's0', 's0']\n",
      "<class 'str'>\n",
      "['s0' 's1' 's2']\n"
     ]
    }
   ],
   "source": [
    "y_train = list(map(str,y_train))\n",
    "y_train = list(map(rename_state, y_train))\n",
    "print(y_train[:5])\n",
    "print(type(y_train[0]))\n",
    "print(np.unique(np.array(y_train)))"
   ]
  },
  {
   "cell_type": "code",
   "execution_count": 7,
   "metadata": {},
   "outputs": [
    {
     "name": "stdout",
     "output_type": "stream",
     "text": [
      "3\n",
      "<class 'list'>\n",
      "[1] Improvement: 2828.8913306630166\tTime (s): 0.004297\n",
      "[2] Improvement: 0.0\tTime (s): 0.003583\n",
      "Total Training Improvement: 2828.8913306630166\n",
      "Total Training Time (s): 0.0156\n",
      "None:{\n",
      "    \"class\" : \"State\",\n",
      "    \"distribution\" : {\n",
      "        \"class\" : \"Distribution\",\n",
      "        \"name\" : \"NormalDistribution\",\n",
      "        \"parameters\" : [\n",
      "            0.09827663493494343,\n",
      "            1.7316749685777306\n",
      "        ],\n",
      "        \"frozen\" : false\n",
      "    },\n",
      "    \"name\" : \"s0\",\n",
      "    \"weight\" : 1.0\n",
      "}{\n",
      "    \"class\" : \"State\",\n",
      "    \"distribution\" : {\n",
      "        \"class\" : \"Distribution\",\n",
      "        \"name\" : \"NormalDistribution\",\n",
      "        \"parameters\" : [\n",
      "            4.871558793812395,\n",
      "            1.154006739922302\n",
      "        ],\n",
      "        \"frozen\" : false\n",
      "    },\n",
      "    \"name\" : \"s1\",\n",
      "    \"weight\" : 1.0\n",
      "}{\n",
      "    \"class\" : \"State\",\n",
      "    \"distribution\" : {\n",
      "        \"class\" : \"Distribution\",\n",
      "        \"name\" : \"NormalDistribution\",\n",
      "        \"parameters\" : [\n",
      "            14.795219114362071,\n",
      "            3.1479586429545523\n",
      "        ],\n",
      "        \"frozen\" : false\n",
      "    },\n",
      "    \"name\" : \"s2\",\n",
      "    \"weight\" : 1.0\n",
      "}{\n",
      "    \"class\" : \"State\",\n",
      "    \"distribution\" : null,\n",
      "    \"name\" : \"None-start\",\n",
      "    \"weight\" : 1.0\n",
      "}{\n",
      "    \"class\" : \"State\",\n",
      "    \"distribution\" : null,\n",
      "    \"name\" : \"None-end\",\n",
      "    \"weight\" : 1.0\n",
      "}\n",
      "[[0.99       0.01       0.         0.         0.        ]\n",
      " [0.         0.99       0.01       0.         0.        ]\n",
      " [0.00900901 0.         0.99099099 0.         0.        ]\n",
      " [0.33333333 0.33333333 0.33333333 0.         0.        ]\n",
      " [0.         0.         0.         0.         0.        ]]\n"
     ]
    }
   ],
   "source": [
    "N = len(np.unique(np.array(y_train)))\n",
    "print(N)\n",
    "print(type([x_train]))\n",
    "hmm = HiddenMarkovModel.from_samples(NormalDistribution,N,[x_train],labels = [y_train], algorithm = 'labeled',verbose=True)\n",
    "print(hmm)\n",
    "print(hmm.dense_transition_matrix())"
   ]
  },
  {
   "cell_type": "code",
   "execution_count": 61,
   "metadata": {},
   "outputs": [
    {
     "name": "stdout",
     "output_type": "stream",
     "text": [
      "{\n",
      "    \"class\" : \"State\",\n",
      "    \"distribution\" : {\n",
      "        \"class\" : \"Distribution\",\n",
      "        \"name\" : \"NormalDistribution\",\n",
      "        \"parameters\" : [\n",
      "            0.09827663493494343,\n",
      "            1.7316749685777306\n",
      "        ],\n",
      "        \"frozen\" : false\n",
      "    },\n",
      "    \"name\" : \"s0\",\n",
      "    \"weight\" : 1.0\n",
      "} {\n",
      "    \"class\" : \"State\",\n",
      "    \"distribution\" : {\n",
      "        \"class\" : \"Distribution\",\n",
      "        \"name\" : \"NormalDistribution\",\n",
      "        \"parameters\" : [\n",
      "            0.09827663493494343,\n",
      "            1.7316749685777306\n",
      "        ],\n",
      "        \"frozen\" : false\n",
      "    },\n",
      "    \"name\" : \"s0\",\n",
      "    \"weight\" : 1.0\n",
      "}\n",
      "[[0. 0. 0.]\n",
      " [0. 0. 0.]\n",
      " [0. 0. 1.]]\n",
      "Матрица переходов А:\n",
      "[[nan nan nan]\n",
      " [nan nan nan]\n",
      " [ 0.  0.  1.]]\n"
     ]
    },
    {
     "name": "stderr",
     "output_type": "stream",
     "text": [
      "/home/kirill/.conda/envs/nir/lib/python3.6/site-packages/ipykernel_launcher.py:13: RuntimeWarning: invalid value encountered in true_divide\n",
      "  del sys.path[0]\n"
     ]
    },
    {
     "data": {
      "text/plain": [
       "[<matplotlib.lines.Line2D at 0x7f34101d4828>]"
      ]
     },
     "execution_count": 61,
     "metadata": {},
     "output_type": "execute_result"
    },
    {
     "data": {
      "image/png": "[encoded data removed]",
      "text/plain": [
       "<Figure size 840x560 with 1 Axes>"
      ]
     },
     "metadata": {
      "needs_background": "light"
     },
     "output_type": "display_data"
    }
   ],
   "source": [
    "sample, path = hmm.sample( 100000, path=True )\n",
    "\n",
    "trans = np.zeros((N,N))\n",
    "p = []\n",
    "for state, n_state in zip( path[1:-2], path[2:-1] ):\n",
    "    print(n_state,state)\n",
    "    state_name = int( state.name[1:] )-1\n",
    "    n_state_name = int( n_state.name[1:] )-1\n",
    "    p+=[n_state_name]\n",
    "    trans[ state_name, n_state_name ] += 1\n",
    "    break\n",
    "print(trans)\n",
    "trans = (trans.T / trans.sum( axis=1 )).T\n",
    "print('Матрица переходов А:')\n",
    "print (trans)\n",
    "plt.figure(dpi=140)\n",
    "plt.plot(sample[:3000])\n",
    "plt.plot(p[:3000])"
   ]
  },
  {
   "cell_type": "code",
   "execution_count": 9,
   "metadata": {},
   "outputs": [
    {
     "name": "stdout",
     "output_type": "stream",
     "text": [
      "-119123.88344118012\n",
      "-5785.099094234294\n"
     ]
    }
   ],
   "source": [
    "print(hmm.log_probability(x_train*4))\n",
    "print(hmm.log_probability(x_train))"
   ]
  },
  {
   "cell_type": "code",
   "execution_count": 10,
   "metadata": {
    "scrolled": true
   },
   "outputs": [
    {
     "name": "stdout",
     "output_type": "stream",
     "text": [
      "(3, 3)\n",
      "(4,)\n"
     ]
    },
    {
     "data": {
      "text/plain": [
       "(3, 3)"
      ]
     },
     "execution_count": 10,
     "metadata": {},
     "output_type": "execute_result"
    }
   ],
   "source": [
    "a = np.array([[1, 2, 3],[1, 0, 2], [0, 2, 1]])\n",
    "print(a.shape)\n",
    "b = np.array([1,2,0,1])\n",
    "print(b.shape)\n",
    "#a = a.reshape(-1,1)\n",
    "a.shape"
   ]
  },
  {
   "cell_type": "code",
   "execution_count": 11,
   "metadata": {},
   "outputs": [
    {
     "ename": "ValueError",
     "evalue": "shapes (3,3) and (4,) not aligned: 3 (dim 1) != 4 (dim 0)",
     "output_type": "error",
     "traceback": [
      "\u001b[0;31m---------------------------------------------------------------------------\u001b[0m",
      "\u001b[0;31mValueError\u001b[0m                                Traceback (most recent call last)",
      "\u001b[0;32m<ipython-input-11-ac6884f5cff1>\u001b[0m in \u001b[0;36m<module>\u001b[0;34m\u001b[0m\n\u001b[0;32m----> 1\u001b[0;31m \u001b[0ma\u001b[0m\u001b[0;34m.\u001b[0m\u001b[0mdot\u001b[0m\u001b[0;34m(\u001b[0m\u001b[0mb\u001b[0m\u001b[0;34m)\u001b[0m\u001b[0;34m\u001b[0m\u001b[0;34m\u001b[0m\u001b[0m\n\u001b[0m",
      "\u001b[0;31mValueError\u001b[0m: shapes (3,3) and (4,) not aligned: 3 (dim 1) != 4 (dim 0)"
     ]
    }
   ],
   "source": [
    "a.dot(b)"
   ]
  },
  {
   "cell_type": "code",
   "execution_count": null,
   "metadata": {},
   "outputs": [],
   "source": []
  },
  {
   "cell_type": "code",
   "execution_count": 78,
   "metadata": {},
   "outputs": [
    {
     "data": {
      "text/plain": [
       "array([1, 2, 3, 1, 0, 2, 0, 2, 1])"
      ]
     },
     "execution_count": 78,
     "metadata": {},
     "output_type": "execute_result"
    }
   ],
   "source": [
    "np.concatenate(a)"
   ]
  },
  {
   "cell_type": "markdown",
   "metadata": {},
   "source": [
    "## Numpy concatenate"
   ]
  },
  {
   "cell_type": "code",
   "execution_count": 158,
   "metadata": {},
   "outputs": [
    {
     "data": {
      "text/plain": [
       "array([0, 1, 2, 3, 4, 5, 0, 1, 2, 3, 4, 5])"
      ]
     },
     "execution_count": 158,
     "metadata": {},
     "output_type": "execute_result"
    }
   ],
   "source": [
    "a = np.array([0,1,2,3,4,5])\n",
    "b = np.array([6,7,8,9,10])\n",
    "c = [[1,2,3,4,5]]\n",
    "seq = [[1,2,3],[2,2],[2,1],[2,23,12,2],[2,1,1]]\n",
    "np.concatenate((a,a))"
   ]
  },
  {
   "cell_type": "code",
   "execution_count": 159,
   "metadata": {},
   "outputs": [
    {
     "data": {
      "text/plain": [
       "array([ 0,  1,  2,  3,  4,  5,  6,  7,  8,  9, 10])"
      ]
     },
     "execution_count": 159,
     "metadata": {},
     "output_type": "execute_result"
    }
   ],
   "source": [
    "np.concatenate((a,b))"
   ]
  },
  {
   "cell_type": "code",
   "execution_count": 160,
   "metadata": {},
   "outputs": [
    {
     "data": {
      "text/plain": [
       "array([[1, 2, 3, 4, 5],\n",
       "       [1, 2, 3, 4, 5]])"
      ]
     },
     "execution_count": 160,
     "metadata": {},
     "output_type": "execute_result"
    }
   ],
   "source": [
    "m1 = np.concatenate((c,c))\n",
    "np.concatenate((c,c))"
   ]
  },
  {
   "cell_type": "code",
   "execution_count": 161,
   "metadata": {},
   "outputs": [
    {
     "ename": "ValueError",
     "evalue": "zero-dimensional arrays cannot be concatenated",
     "output_type": "error",
     "traceback": [
      "\u001b[0;31m---------------------------------------------------------------------------\u001b[0m",
      "\u001b[0;31mValueError\u001b[0m                                Traceback (most recent call last)",
      "\u001b[0;32m<ipython-input-161-af2fc566acec>\u001b[0m in \u001b[0;36m<module>\u001b[0;34m\u001b[0m\n\u001b[0;32m----> 1\u001b[0;31m \u001b[0mnp\u001b[0m\u001b[0;34m.\u001b[0m\u001b[0mconcatenate\u001b[0m\u001b[0;34m(\u001b[0m\u001b[0ma\u001b[0m\u001b[0;34m)\u001b[0m\u001b[0;34m\u001b[0m\u001b[0;34m\u001b[0m\u001b[0m\n\u001b[0m",
      "\u001b[0;31mValueError\u001b[0m: zero-dimensional arrays cannot be concatenated"
     ]
    }
   ],
   "source": [
    "np.concatenate(a)"
   ]
  },
  {
   "cell_type": "code",
   "execution_count": 162,
   "metadata": {},
   "outputs": [
    {
     "data": {
      "text/plain": [
       "array([0, 1, 2, 3, 4, 5])"
      ]
     },
     "execution_count": 162,
     "metadata": {},
     "output_type": "execute_result"
    }
   ],
   "source": [
    "np.concatenate([a])"
   ]
  },
  {
   "cell_type": "code",
   "execution_count": 163,
   "metadata": {},
   "outputs": [
    {
     "name": "stdout",
     "output_type": "stream",
     "text": [
      "2\n",
      "(2, 5)\n"
     ]
    }
   ],
   "source": [
    "print(m1.ndim)\n",
    "if (m1.ndim == 1):\n",
    "    m1 = m1.reshape(m1.shape[0], 1)\n",
    "print(m1.shape)"
   ]
  },
  {
   "cell_type": "code",
   "execution_count": 164,
   "metadata": {},
   "outputs": [
    {
     "name": "stdout",
     "output_type": "stream",
     "text": [
      "(14, 1)\n",
      "[[ 1]\n",
      " [ 2]\n",
      " [ 3]\n",
      " [ 2]\n",
      " [ 2]\n",
      " [ 2]\n",
      " [ 1]\n",
      " [ 2]\n",
      " [23]\n",
      " [12]\n",
      " [ 2]\n",
      " [ 2]\n",
      " [ 1]\n",
      " [ 1]]\n"
     ]
    }
   ],
   "source": [
    "m1 = np.concatenate(seq)\n",
    "if (m1.ndim == 1):\n",
    "    m1 = m1.reshape(m1.shape[0], 1)\n",
    "print(m1.shape)\n",
    "print(m1)"
   ]
  },
  {
   "cell_type": "code",
   "execution_count": 42,
   "metadata": {},
   "outputs": [],
   "source": [
    "a = []\n",
    "a.append([0,0,1])\n",
    "a.append([0,2,1])"
   ]
  },
  {
   "cell_type": "code",
   "execution_count": 43,
   "metadata": {},
   "outputs": [
    {
     "data": {
      "text/plain": [
       "[[0, 0, 1], [0, 2, 1]]"
      ]
     },
     "execution_count": 43,
     "metadata": {},
     "output_type": "execute_result"
    }
   ],
   "source": [
    "a"
   ]
  },
  {
   "cell_type": "code",
   "execution_count": 44,
   "metadata": {},
   "outputs": [
    {
     "data": {
      "text/plain": [
       "[[0, 0, 1], [0, 2, 1]]"
      ]
     },
     "execution_count": 44,
     "metadata": {},
     "output_type": "execute_result"
    }
   ],
   "source": [
    "a"
   ]
  },
  {
   "cell_type": "code",
   "execution_count": 45,
   "metadata": {},
   "outputs": [
    {
     "data": {
      "text/plain": [
       "2"
      ]
     },
     "execution_count": 45,
     "metadata": {},
     "output_type": "execute_result"
    }
   ],
   "source": [
    "len(a)"
   ]
  },
  {
   "cell_type": "code",
   "execution_count": 50,
   "metadata": {},
   "outputs": [
    {
     "data": {
      "text/plain": [
       "array([-21.81798659,  -1.20516411, -12.84616728, -24.9181279 ,\n",
       "        20.68128035,  -1.82732648,  -4.36594423,   4.10477063,\n",
       "        16.88450814, -15.79398875])"
      ]
     },
     "execution_count": 50,
     "metadata": {},
     "output_type": "execute_result"
    }
   ],
   "source": [
    "t = np.random.normal(0,12,10)\n",
    "t"
   ]
  },
  {
   "cell_type": "code",
   "execution_count": 51,
   "metadata": {},
   "outputs": [],
   "source": [
    "a = []"
   ]
  },
  {
   "cell_type": "code",
   "execution_count": 52,
   "metadata": {},
   "outputs": [],
   "source": [
    "t = t.tolist()"
   ]
  },
  {
   "cell_type": "code",
   "execution_count": 55,
   "metadata": {},
   "outputs": [],
   "source": [
    "a = a + t"
   ]
  },
  {
   "cell_type": "code",
   "execution_count": 56,
   "metadata": {},
   "outputs": [
    {
     "data": {
      "text/plain": [
       "[-21.81798659208659,\n",
       " -1.2051641104374449,\n",
       " -12.84616727911428,\n",
       " -24.9181279000937,\n",
       " 20.681280348918055,\n",
       " -1.8273264789591668,\n",
       " -4.365944228049241,\n",
       " 4.1047706250393405,\n",
       " 16.88450814185772,\n",
       " -15.793988745384803,\n",
       " -21.81798659208659,\n",
       " -1.2051641104374449,\n",
       " -12.84616727911428,\n",
       " -24.9181279000937,\n",
       " 20.681280348918055,\n",
       " -1.8273264789591668,\n",
       " -4.365944228049241,\n",
       " 4.1047706250393405,\n",
       " 16.88450814185772,\n",
       " -15.793988745384803]"
      ]
     },
     "execution_count": 56,
     "metadata": {},
     "output_type": "execute_result"
    }
   ],
   "source": [
    "a"
   ]
  },
  {
   "cell_type": "code",
   "execution_count": null,
   "metadata": {},
   "outputs": [],
   "source": []
  },
  {
   "cell_type": "code",
   "execution_count": null,
   "metadata": {},
   "outputs": [],
   "source": []
  }
 ],
 "metadata": {
  "kernelspec": {
   "display_name": "Python 3",
   "language": "python",
   "name": "python3"
  },
  "language_info": {
   "codemirror_mode": {
    "name": "ipython",
    "version": 3
   },
   "file_extension": ".py",
   "mimetype": "text/x-python",
   "name": "python",
   "nbconvert_exporter": "python",
   "pygments_lexer": "ipython3",
   "version": "3.6.7"
  }
 },
 "nbformat": 4,
 "nbformat_minor": 2
}

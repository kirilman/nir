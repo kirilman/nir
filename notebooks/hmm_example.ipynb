{
 "cells": [
  {
   "cell_type": "markdown",
   "metadata": {},
   "source": [
    "# Hidden Markov Model Example"
   ]
  },
  {
   "cell_type": "markdown",
   "metadata": {},
   "source": [
    "authors:<br>\n",
    "Jacob Schreiber [<a href=\"mailto:jmschreiber91@gmail.com\">jmschreiber91@gmail.com</a>]<br>\n",
    "Nicholas Farn [<a href=\"mailto:nicholasfarn@gmail.com\">nicholasfarn@gmail.com</a>]"
   ]
  },
  {
   "cell_type": "markdown",
   "metadata": {},
   "source": [
    "A simple example highlighting how to build a model using states, add\n",
    "transitions, and then run the algorithms, including showing how training\n",
    "on a sequence improves the probability of the sequence."
   ]
  },
  {
   "cell_type": "code",
   "execution_count": 1,
   "metadata": {},
   "outputs": [],
   "source": [
    "import random\n",
    "from pomegranate import *\n",
    "\n",
    "random.seed(0)"
   ]
  },
  {
   "cell_type": "markdown",
   "metadata": {},
   "source": [
    "First we will create the states of the model, one uniform and one normal."
   ]
  },
  {
   "cell_type": "code",
   "execution_count": 2,
   "metadata": {},
   "outputs": [],
   "source": [
    "state1 = State( UniformDistribution(0.0, 1.0), name=\"uniform\" )\n",
    "state2 = State( NormalDistribution(0, 2), name=\"normal\" )"
   ]
  },
  {
   "cell_type": "markdown",
   "metadata": {},
   "source": [
    "We will then create the model by creating a HiddenMarkovModel instance. Then we will add the states."
   ]
  },
  {
   "cell_type": "code",
   "execution_count": 3,
   "metadata": {},
   "outputs": [],
   "source": [
    "model = HiddenMarkovModel( name=\"ExampleModel\" )\n",
    "model.add_state( state1 )\n",
    "model.add_state( state2 )"
   ]
  },
  {
   "cell_type": "markdown",
   "metadata": {},
   "source": [
    "Now we'll add the start states to the model."
   ]
  },
  {
   "cell_type": "code",
   "execution_count": 4,
   "metadata": {},
   "outputs": [],
   "source": [
    "model.add_transition( model.start, state1, 0.5 )\n",
    "model.add_transition( model.start, state2, 0.5 )"
   ]
  },
  {
   "cell_type": "markdown",
   "metadata": {},
   "source": [
    "And the transition matrix."
   ]
  },
  {
   "cell_type": "code",
   "execution_count": 5,
   "metadata": {},
   "outputs": [],
   "source": [
    "model.add_transition( state1, state1, 0.4 )\n",
    "model.add_transition( state1, state2, 0.4 )\n",
    "model.add_transition( state2, state2, 0.4 )\n",
    "model.add_transition( state2, state1, 0.4 )"
   ]
  },
  {
   "cell_type": "markdown",
   "metadata": {},
   "source": [
    "Finally the ending states to the model."
   ]
  },
  {
   "cell_type": "code",
   "execution_count": 6,
   "metadata": {},
   "outputs": [],
   "source": [
    "model.add_transition( state1, model.end, 0.2 )\n",
    "model.add_transition( state2, model.end, 0.2 )"
   ]
  },
  {
   "cell_type": "markdown",
   "metadata": {},
   "source": [
    "To finalize the model, we \"bake\" it."
   ]
  },
  {
   "cell_type": "code",
   "execution_count": 7,
   "metadata": {},
   "outputs": [],
   "source": [
    "model.bake()"
   ]
  },
  {
   "cell_type": "markdown",
   "metadata": {},
   "source": [
    "New we'll create a sample sequence using our model."
   ]
  },
  {
   "cell_type": "code",
   "execution_count": 32,
   "metadata": {},
   "outputs": [
    {
     "name": "stdout",
     "output_type": "stream",
     "text": [
      "[-0.6231050642547453, 0.11233068445949088, 0.8289400292173631, 0.004695476192547066, 0.6778165367962301, 0.27000797319216485, 0.9313248794609197, -3.0724873725544475, 2.9765043875911994, 0.2230816326406183, 0.952749011516985, 0.44712537861762736]\n"
     ]
    }
   ],
   "source": [
    "sequence = model.sample()\n",
    "print (sequence)"
   ]
  },
  {
   "cell_type": "markdown",
   "metadata": {},
   "source": [
    "Now we'll feed the sequence through a forward algorithm with our model."
   ]
  },
  {
   "cell_type": "code",
   "execution_count": 34,
   "metadata": {},
   "outputs": [
    {
     "name": "stdout",
     "output_type": "stream",
     "text": [
      "-17.982373726233146\n"
     ]
    }
   ],
   "source": [
    "print (model.forward( sequence )[ len(sequence), model.end_index ])"
   ]
  },
  {
   "cell_type": "markdown",
   "metadata": {},
   "source": [
    "Next we'll do the same, except with a backwards algorithm."
   ]
  },
  {
   "cell_type": "code",
   "execution_count": 35,
   "metadata": {},
   "outputs": [
    {
     "name": "stdout",
     "output_type": "stream",
     "text": [
      "-17.982373726233142\n"
     ]
    }
   ],
   "source": [
    "print (model.backward( sequence )[0,model.start_index])"
   ]
  },
  {
   "cell_type": "markdown",
   "metadata": {},
   "source": [
    "Then we'll feed the sequence again, through a forward-backward algorithm."
   ]
  },
  {
   "cell_type": "code",
   "execution_count": 36,
   "metadata": {},
   "outputs": [
    {
     "name": "stdout",
     "output_type": "stream",
     "text": [
      "[[1.66194681 2.61709257 0.         0.16286334]\n",
      " [1.77995592 4.9410047  0.         0.83713666]\n",
      " [1.         0.         0.         0.        ]\n",
      " [0.         0.         0.         0.        ]]\n",
      "[[ 3.55271368e-15            -inf]\n",
      " [-1.79528160e+00 -1.81618616e-01]\n",
      " [-1.86607697e+00 -1.68098562e-01]\n",
      " [-1.79396875e+00 -1.81880285e-01]\n",
      " [-1.84207112e+00 -1.72555999e-01]\n",
      " [-1.80156975e+00 -1.80370997e-01]\n",
      " [-1.88515229e+00 -1.64645824e-01]\n",
      " [-3.55271368e-15            -inf]\n",
      " [ 0.00000000e+00            -inf]\n",
      " [-1.79915532e+00 -1.80848928e-01]\n",
      " [-1.88943356e+00 -1.63881512e-01]\n",
      " [-1.81484381e+00 -1.77767954e-01]]\n"
     ]
    }
   ],
   "source": [
    "trans, ems = model.forward_backward( sequence )\n",
    "print (trans)\n",
    "print (ems)"
   ]
  },
  {
   "cell_type": "code",
   "execution_count": 41,
   "metadata": {},
   "outputs": [
    {
     "data": {
      "text/plain": [
       "[[-0.6231050642547453,\n",
       "  0.11233068445949088,\n",
       "  0.8289400292173631,\n",
       "  0.004695476192547066,\n",
       "  0.6778165367962301,\n",
       "  0.27000797319216485,\n",
       "  0.9313248794609197,\n",
       "  -3.0724873725544475,\n",
       "  2.9765043875911994,\n",
       "  0.2230816326406183,\n",
       "  0.952749011516985,\n",
       "  0.44712537861762736]]"
      ]
     },
     "execution_count": 41,
     "metadata": {},
     "output_type": "execute_result"
    }
   ],
   "source": [
    "[sequence]"
   ]
  },
  {
   "cell_type": "markdown",
   "metadata": {},
   "source": [
    "Finally we'll train our model with our example sequence."
   ]
  },
  {
   "cell_type": "code",
   "execution_count": 37,
   "metadata": {},
   "outputs": [
    {
     "data": {
      "text/plain": [
       "{\n",
       "    \"class\" : \"HiddenMarkovModel\",\n",
       "    \"name\" : \"ExampleModel\",\n",
       "    \"start\" : {\n",
       "        \"class\" : \"State\",\n",
       "        \"distribution\" : null,\n",
       "        \"name\" : \"ExampleModel-start\",\n",
       "        \"weight\" : 1.0\n",
       "    },\n",
       "    \"end\" : {\n",
       "        \"class\" : \"State\",\n",
       "        \"distribution\" : null,\n",
       "        \"name\" : \"ExampleModel-end\",\n",
       "        \"weight\" : 1.0\n",
       "    },\n",
       "    \"states\" : [\n",
       "        {\n",
       "            \"class\" : \"State\",\n",
       "            \"distribution\" : {\n",
       "                \"class\" : \"Distribution\",\n",
       "                \"name\" : \"NormalDistribution\",\n",
       "                \"parameters\" : [\n",
       "                    -0.16888214867298015,\n",
       "                    2.366303950112878\n",
       "                ],\n",
       "                \"frozen\" : false\n",
       "            },\n",
       "            \"name\" : \"normal\",\n",
       "            \"weight\" : 1.0\n",
       "        },\n",
       "        {\n",
       "            \"class\" : \"State\",\n",
       "            \"distribution\" : {\n",
       "                \"class\" : \"Distribution\",\n",
       "                \"name\" : \"UniformDistribution\",\n",
       "                \"parameters\" : [\n",
       "                    0.004695476192547066,\n",
       "                    0.952749011516985\n",
       "                ],\n",
       "                \"frozen\" : false\n",
       "            },\n",
       "            \"name\" : \"uniform\",\n",
       "            \"weight\" : 1.0\n",
       "        },\n",
       "        {\n",
       "            \"class\" : \"State\",\n",
       "            \"distribution\" : null,\n",
       "            \"name\" : \"ExampleModel-start\",\n",
       "            \"weight\" : 1.0\n",
       "        },\n",
       "        {\n",
       "            \"class\" : \"State\",\n",
       "            \"distribution\" : null,\n",
       "            \"name\" : \"ExampleModel-end\",\n",
       "            \"weight\" : 1.0\n",
       "        }\n",
       "    ],\n",
       "    \"end_index\" : 3,\n",
       "    \"start_index\" : 2,\n",
       "    \"silent_index\" : 2,\n",
       "    \"edges\" : [\n",
       "        [\n",
       "            2,\n",
       "            1,\n",
       "            0.0,\n",
       "            0.5,\n",
       "            null\n",
       "        ],\n",
       "        [\n",
       "            2,\n",
       "            0,\n",
       "            1.0,\n",
       "            0.5,\n",
       "            null\n",
       "        ],\n",
       "        [\n",
       "            1,\n",
       "            1,\n",
       "            0.7574692079129892,\n",
       "            0.4,\n",
       "            null\n",
       "        ],\n",
       "        [\n",
       "            1,\n",
       "            0,\n",
       "            0.12704357779553843,\n",
       "            0.4,\n",
       "            null\n",
       "        ],\n",
       "        [\n",
       "            1,\n",
       "            3,\n",
       "            0.11548721429147232,\n",
       "            0.2,\n",
       "            null\n",
       "        ],\n",
       "        [\n",
       "            0,\n",
       "            0,\n",
       "            0.3714320406350703,\n",
       "            0.4,\n",
       "            null\n",
       "        ],\n",
       "        [\n",
       "            0,\n",
       "            1,\n",
       "            0.6285679593598722,\n",
       "            0.4,\n",
       "            null\n",
       "        ],\n",
       "        [\n",
       "            0,\n",
       "            3,\n",
       "            5.0574822522687485e-12,\n",
       "            0.2,\n",
       "            null\n",
       "        ]\n",
       "    ],\n",
       "    \"distribution ties\" : []\n",
       "}"
      ]
     },
     "execution_count": 37,
     "metadata": {},
     "output_type": "execute_result"
    }
   ],
   "source": [
    "model.fit( [ sequence ] )"
   ]
  },
  {
   "cell_type": "markdown",
   "metadata": {},
   "source": [
    "Then repeat the algorithms we fed the sequence through before on our improved model."
   ]
  },
  {
   "cell_type": "code",
   "execution_count": 39,
   "metadata": {
    "scrolled": true
   },
   "outputs": [
    {
     "name": "stdout",
     "output_type": "stream",
     "text": [
      "Forward\n",
      "-14.26467638032539\n",
      "\n",
      "Backward\n",
      "-14.264676380325394\n",
      "\n",
      "[[1.24096653e+00 2.10006608e+00 0.00000000e+00 1.20056464e-12]\n",
      " [1.10006608e+00 6.55890131e+00 0.00000000e+00 1.00000000e+00]\n",
      " [1.00000000e+00 0.00000000e+00 0.00000000e+00 0.00000000e+00]\n",
      " [0.00000000e+00 0.00000000e+00 0.00000000e+00 0.00000000e+00]]\n",
      "[[-3.55271368e-15            -inf]\n",
      " [-2.58025939e+00 -7.87773895e-02]\n",
      " [-3.69618105e+00 -2.51312869e-02]\n",
      " [-3.72189120e+00 -2.44855184e-02]\n",
      " [-3.77565136e+00 -2.31889527e-02]\n",
      " [-3.64282937e+00 -2.65269195e-02]\n",
      " [-2.67071958e+00 -7.17134375e-02]\n",
      " [ 1.77635684e-15            -inf]\n",
      " [ 1.77635684e-15            -inf]\n",
      " [-2.58992057e+00 -7.79896487e-02]\n",
      " [-3.77473303e+00 -2.32105067e-02]\n",
      " [-2.74482291e+01 -1.20081722e-12]]\n"
     ]
    }
   ],
   "source": [
    "print (\"Forward\")\n",
    "print (model.forward( sequence )[ len(sequence), model.end_index ])\n",
    "print()\n",
    "print (\"Backward\")\n",
    "print (model.backward( sequence )[ 0,model.start_index ])\n",
    "print ()\n",
    "trans, ems = model.forward_backward( sequence )\n",
    "print (trans)\n",
    "print (ems)"
   ]
  },
  {
   "cell_type": "code",
   "execution_count": 5,
   "metadata": {},
   "outputs": [
    {
     "data": {
      "image/png": "[encoded data removed]",
      "text/plain": [
       "<Figure size 432x288 with 1 Axes>"
      ]
     },
     "metadata": {
      "needs_background": "light"
     },
     "output_type": "display_data"
    }
   ],
   "source": [
    "import matplotlib.pyplot as plt\n",
    "\n",
    "fig = plt.figure()\n",
    "plt.plot([10, 5, 0, 7, 19, 34, 3])\n",
    "plt.xticks(range(7), ['пн', 'вт', 'ср', 'чт', 'пт', 'сб', 'вс'])\n",
    "plt.ylabel('Количество объявлений')\n",
    "plt.show()"
   ]
  },
  {
   "cell_type": "code",
   "execution_count": null,
   "metadata": {},
   "outputs": [],
   "source": []
  }
 ],
 "metadata": {
  "kernelspec": {
   "display_name": "Python 3",
   "language": "python",
   "name": "python3"
  },
  "language_info": {
   "codemirror_mode": {
    "name": "ipython",
    "version": 3
   },
   "file_extension": ".py",
   "mimetype": "text/x-python",
   "name": "python",
   "nbconvert_exporter": "python",
   "pygments_lexer": "ipython3",
   "version": "3.6.7"
  }
 },
 "nbformat": 4,
 "nbformat_minor": 1
}

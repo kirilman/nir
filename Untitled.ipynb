{
 "cells": [
  {
   "cell_type": "code",
   "execution_count": 1,
   "metadata": {},
   "outputs": [],
   "source": [
    "from sequence_generator import  Sequence\n",
    "import numpy as np\n",
    "import matplotlib.pyplot as plt\n",
    "from pomegranate import *\n",
    "import warnings"
   ]
  },
  {
   "cell_type": "code",
   "execution_count": 2,
   "metadata": {},
   "outputs": [
    {
     "name": "stdout",
     "output_type": "stream",
     "text": [
      "(3,)\n",
      "(3,)\n"
     ]
    }
   ],
   "source": [
    "a = np.array(['a','b','c'])\n",
    "l = ['a','b','v']\n",
    "n = np.array(l)\n",
    "print(a.shape)\n",
    "print(n.shape)\n",
    "c = np.concatenate((a,n))"
   ]
  },
  {
   "cell_type": "code",
   "execution_count": 3,
   "metadata": {},
   "outputs": [
    {
     "data": {
      "text/plain": [
       "(6,)"
      ]
     },
     "execution_count": 3,
     "metadata": {},
     "output_type": "execute_result"
    }
   ],
   "source": [
    "c.shape"
   ]
  },
  {
   "cell_type": "code",
   "execution_count": 4,
   "metadata": {},
   "outputs": [],
   "source": [
    "import sys"
   ]
  },
  {
   "cell_type": "code",
   "execution_count": 7,
   "metadata": {},
   "outputs": [
    {
     "name": "stdout",
     "output_type": "stream",
     "text": [
      "Package            Version   \r\n",
      "------------------ ----------\r\n",
      "backcall           0.1.0     \r\n",
      "bleach             3.0.2     \r\n",
      "certifi            2018.11.29\r\n",
      "cycler             0.10.0    \r\n",
      "decorator          4.3.0     \r\n",
      "defusedxml         0.5.0     \r\n",
      "entrypoints        0.2.3     \r\n",
      "ipykernel          5.1.0     \r\n",
      "ipython            7.2.0     \r\n",
      "ipython-genutils   0.2.0     \r\n",
      "ipywidgets         7.4.2     \r\n",
      "jedi               0.13.2    \r\n",
      "Jinja2             2.10      \r\n",
      "joblib             0.13.0    \r\n",
      "jsonschema         2.6.0     \r\n",
      "jupyter            1.0.0     \r\n",
      "jupyter-client     5.2.4     \r\n",
      "jupyter-console    6.0.0     \r\n",
      "jupyter-core       4.4.0     \r\n",
      "kiwisolver         1.0.1     \r\n",
      "MarkupSafe         1.1.0     \r\n",
      "matplotlib         2.2.0     \r\n",
      "mistune            0.8.4     \r\n",
      "nbconvert          5.4.0     \r\n",
      "nbformat           4.4.0     \r\n",
      "networkx           1.8.1     \r\n",
      "notebook           5.7.4     \r\n",
      "numpy              1.15.4    \r\n",
      "pandocfilters      1.4.2     \r\n",
      "parso              0.3.1     \r\n",
      "pbr                5.1.1     \r\n",
      "pexpect            4.6.0     \r\n",
      "pickleshare        0.7.5     \r\n",
      "pip                18.1      \r\n",
      "pomegranate        0.10.0    \r\n",
      "prometheus-client  0.5.0     \r\n",
      "prompt-toolkit     2.0.7     \r\n",
      "ptyprocess         0.6.0     \r\n",
      "Pygments           2.3.1     \r\n",
      "pyparsing          2.3.0     \r\n",
      "python-dateutil    2.7.5     \r\n",
      "pytz               2018.7    \r\n",
      "PyYAML             3.13      \r\n",
      "pyzmq              17.1.2    \r\n",
      "qtconsole          4.4.3     \r\n",
      "scipy              1.1.0     \r\n",
      "Send2Trash         1.5.0     \r\n",
      "setuptools         40.6.2    \r\n",
      "six                1.12.0    \r\n",
      "stevedore          1.30.0    \r\n",
      "terminado          0.8.1     \r\n",
      "testpath           0.4.2     \r\n",
      "tornado            5.1.1     \r\n",
      "traitlets          4.3.2     \r\n",
      "virtualenv         16.1.0    \r\n",
      "virtualenv-clone   0.4.0     \r\n",
      "virtualenvwrapper  4.8.2     \r\n",
      "wcwidth            0.1.7     \r\n",
      "webencodings       0.5.1     \r\n",
      "wheel              0.32.3    \r\n",
      "widgetsnbextension 3.4.2     \r\n"
     ]
    }
   ],
   "source": [
    "!pip list"
   ]
  },
  {
   "cell_type": "code",
   "execution_count": null,
   "metadata": {},
   "outputs": [],
   "source": []
  }
 ],
 "metadata": {
  "kernelspec": {
   "display_name": "Python 3",
   "language": "python",
   "name": "python3"
  },
  "language_info": {
   "codemirror_mode": {
    "name": "ipython",
    "version": 3
   },
   "file_extension": ".py",
   "mimetype": "text/x-python",
   "name": "python",
   "nbconvert_exporter": "python",
   "pygments_lexer": "ipython3",
   "version": "3.6.7"
  }
 },
 "nbformat": 4,
 "nbformat_minor": 2
}
